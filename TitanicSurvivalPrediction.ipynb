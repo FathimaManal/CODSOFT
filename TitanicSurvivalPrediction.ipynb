{
 "cells": [
  {
   "cell_type": "markdown",
   "id": "578afea4-9ca7-46cc-8075-eb302cd4a11f",
   "metadata": {},
   "source": [
    "# Titanic Survival Prediction\n",
    "\n",
    "I worked on the **Titanic Survival Prediction** project.  \n",
    "In this project, I built a machine learning model that predicts whether a passenger survived the Titanic disaster based on features such as their age, gender, class, and fare.\n",
    "\n",
    "I used **Python** and libraries like **Pandas**, **NumPy**, **Matplotlib**, **Seaborn**, and **Scikit-learn** for data preprocessing, analysis, and model building.\n"
   ]
  },
  {
   "cell_type": "code",
   "execution_count": 1,
   "id": "8f19aeb7-221a-4b3e-acd9-98b0f0580f0a",
   "metadata": {},
   "outputs": [],
   "source": [
    "# 📥 Importing Libraries\n",
    "import pandas as pd\n",
    "import numpy as np\n",
    "import matplotlib.pyplot as plt\n",
    "import seaborn as sns\n",
    "\n",
    "from sklearn.model_selection import train_test_split\n",
    "from sklearn.preprocessing import LabelEncoder\n",
    "from sklearn.ensemble import RandomForestClassifier\n",
    "from sklearn.metrics import accuracy_score, confusion_matrix, classification_report\n"
   ]
  },
  {
   "cell_type": "markdown",
   "id": "120a18d5-0d09-49c3-a84b-f73f0d42eef4",
   "metadata": {},
   "source": [
    "## Loading the Dataset\n",
    "\n",
    "I used the Titanic dataset to train and test my model.  \n",
    "The dataset contained details about passengers like their age, gender, ticket class, and survival status.\n"
   ]
  },
  {
   "cell_type": "code",
   "execution_count": 2,
   "id": "0ce1fb7a-1afd-4a6f-8e73-5e639209badb",
   "metadata": {},
   "outputs": [
    {
     "data": {
      "text/html": [
       "<div>\n",
       "<style scoped>\n",
       "    .dataframe tbody tr th:only-of-type {\n",
       "        vertical-align: middle;\n",
       "    }\n",
       "\n",
       "    .dataframe tbody tr th {\n",
       "        vertical-align: top;\n",
       "    }\n",
       "\n",
       "    .dataframe thead th {\n",
       "        text-align: right;\n",
       "    }\n",
       "</style>\n",
       "<table border=\"1\" class=\"dataframe\">\n",
       "  <thead>\n",
       "    <tr style=\"text-align: right;\">\n",
       "      <th></th>\n",
       "      <th>survived</th>\n",
       "      <th>pclass</th>\n",
       "      <th>sex</th>\n",
       "      <th>age</th>\n",
       "      <th>sibsp</th>\n",
       "      <th>parch</th>\n",
       "      <th>fare</th>\n",
       "      <th>embarked</th>\n",
       "      <th>class</th>\n",
       "      <th>who</th>\n",
       "      <th>adult_male</th>\n",
       "      <th>deck</th>\n",
       "      <th>embark_town</th>\n",
       "      <th>alive</th>\n",
       "      <th>alone</th>\n",
       "    </tr>\n",
       "  </thead>\n",
       "  <tbody>\n",
       "    <tr>\n",
       "      <th>0</th>\n",
       "      <td>0</td>\n",
       "      <td>3</td>\n",
       "      <td>male</td>\n",
       "      <td>22.0</td>\n",
       "      <td>1</td>\n",
       "      <td>0</td>\n",
       "      <td>7.2500</td>\n",
       "      <td>S</td>\n",
       "      <td>Third</td>\n",
       "      <td>man</td>\n",
       "      <td>True</td>\n",
       "      <td>NaN</td>\n",
       "      <td>Southampton</td>\n",
       "      <td>no</td>\n",
       "      <td>False</td>\n",
       "    </tr>\n",
       "    <tr>\n",
       "      <th>1</th>\n",
       "      <td>1</td>\n",
       "      <td>1</td>\n",
       "      <td>female</td>\n",
       "      <td>38.0</td>\n",
       "      <td>1</td>\n",
       "      <td>0</td>\n",
       "      <td>71.2833</td>\n",
       "      <td>C</td>\n",
       "      <td>First</td>\n",
       "      <td>woman</td>\n",
       "      <td>False</td>\n",
       "      <td>C</td>\n",
       "      <td>Cherbourg</td>\n",
       "      <td>yes</td>\n",
       "      <td>False</td>\n",
       "    </tr>\n",
       "    <tr>\n",
       "      <th>2</th>\n",
       "      <td>1</td>\n",
       "      <td>3</td>\n",
       "      <td>female</td>\n",
       "      <td>26.0</td>\n",
       "      <td>0</td>\n",
       "      <td>0</td>\n",
       "      <td>7.9250</td>\n",
       "      <td>S</td>\n",
       "      <td>Third</td>\n",
       "      <td>woman</td>\n",
       "      <td>False</td>\n",
       "      <td>NaN</td>\n",
       "      <td>Southampton</td>\n",
       "      <td>yes</td>\n",
       "      <td>True</td>\n",
       "    </tr>\n",
       "    <tr>\n",
       "      <th>3</th>\n",
       "      <td>1</td>\n",
       "      <td>1</td>\n",
       "      <td>female</td>\n",
       "      <td>35.0</td>\n",
       "      <td>1</td>\n",
       "      <td>0</td>\n",
       "      <td>53.1000</td>\n",
       "      <td>S</td>\n",
       "      <td>First</td>\n",
       "      <td>woman</td>\n",
       "      <td>False</td>\n",
       "      <td>C</td>\n",
       "      <td>Southampton</td>\n",
       "      <td>yes</td>\n",
       "      <td>False</td>\n",
       "    </tr>\n",
       "    <tr>\n",
       "      <th>4</th>\n",
       "      <td>0</td>\n",
       "      <td>3</td>\n",
       "      <td>male</td>\n",
       "      <td>35.0</td>\n",
       "      <td>0</td>\n",
       "      <td>0</td>\n",
       "      <td>8.0500</td>\n",
       "      <td>S</td>\n",
       "      <td>Third</td>\n",
       "      <td>man</td>\n",
       "      <td>True</td>\n",
       "      <td>NaN</td>\n",
       "      <td>Southampton</td>\n",
       "      <td>no</td>\n",
       "      <td>True</td>\n",
       "    </tr>\n",
       "  </tbody>\n",
       "</table>\n",
       "</div>"
      ],
      "text/plain": [
       "   survived  pclass     sex   age  sibsp  parch     fare embarked  class  \\\n",
       "0         0       3    male  22.0      1      0   7.2500        S  Third   \n",
       "1         1       1  female  38.0      1      0  71.2833        C  First   \n",
       "2         1       3  female  26.0      0      0   7.9250        S  Third   \n",
       "3         1       1  female  35.0      1      0  53.1000        S  First   \n",
       "4         0       3    male  35.0      0      0   8.0500        S  Third   \n",
       "\n",
       "     who  adult_male deck  embark_town alive  alone  \n",
       "0    man        True  NaN  Southampton    no  False  \n",
       "1  woman       False    C    Cherbourg   yes  False  \n",
       "2  woman       False  NaN  Southampton   yes   True  \n",
       "3  woman       False    C  Southampton   yes  False  \n",
       "4    man        True  NaN  Southampton    no   True  "
      ]
     },
     "execution_count": 2,
     "metadata": {},
     "output_type": "execute_result"
    }
   ],
   "source": [
    "# Loading dataset from seaborn\n",
    "df = sns.load_dataset('titanic')\n",
    "\n",
    "# Displaying first few records\n",
    "df.head()\n"
   ]
  },
  {
   "cell_type": "markdown",
   "id": "012900b4-74c2-4bf9-9f48-4a2e2e1e0c72",
   "metadata": {},
   "source": [
    "## Exploratory Data Analysis (EDA)\n",
    "\n",
    "I explored the dataset to understand its structure, data types, and missing values.  \n",
    "This helped me identify which columns needed cleaning and what kind of preprocessing was required.\n"
   ]
  },
  {
   "cell_type": "code",
   "execution_count": 3,
   "id": "78f570be-da3b-4888-9c56-19dc5a5d9981",
   "metadata": {},
   "outputs": [
    {
     "name": "stdout",
     "output_type": "stream",
     "text": [
      "<class 'pandas.core.frame.DataFrame'>\n",
      "RangeIndex: 891 entries, 0 to 890\n",
      "Data columns (total 15 columns):\n",
      " #   Column       Non-Null Count  Dtype   \n",
      "---  ------       --------------  -----   \n",
      " 0   survived     891 non-null    int64   \n",
      " 1   pclass       891 non-null    int64   \n",
      " 2   sex          891 non-null    object  \n",
      " 3   age          714 non-null    float64 \n",
      " 4   sibsp        891 non-null    int64   \n",
      " 5   parch        891 non-null    int64   \n",
      " 6   fare         891 non-null    float64 \n",
      " 7   embarked     889 non-null    object  \n",
      " 8   class        891 non-null    category\n",
      " 9   who          891 non-null    object  \n",
      " 10  adult_male   891 non-null    bool    \n",
      " 11  deck         203 non-null    category\n",
      " 12  embark_town  889 non-null    object  \n",
      " 13  alive        891 non-null    object  \n",
      " 14  alone        891 non-null    bool    \n",
      "dtypes: bool(2), category(2), float64(2), int64(4), object(5)\n",
      "memory usage: 80.7+ KB\n"
     ]
    },
    {
     "data": {
      "text/plain": [
       "survived         0\n",
       "pclass           0\n",
       "sex              0\n",
       "age            177\n",
       "sibsp            0\n",
       "parch            0\n",
       "fare             0\n",
       "embarked         2\n",
       "class            0\n",
       "who              0\n",
       "adult_male       0\n",
       "deck           688\n",
       "embark_town      2\n",
       "alive            0\n",
       "alone            0\n",
       "dtype: int64"
      ]
     },
     "execution_count": 3,
     "metadata": {},
     "output_type": "execute_result"
    }
   ],
   "source": [
    "# Checking basic info\n",
    "df.info()\n",
    "\n",
    "# Summary statistics\n",
    "df.describe()\n",
    "\n",
    "# Missing values count\n",
    "df.isnull().sum()\n"
   ]
  },
  {
   "cell_type": "markdown",
   "id": "d542d321-e9be-4d58-8d76-1ec526869cc3",
   "metadata": {},
   "source": [
    "### Visualizing Insights\n",
    "\n",
    "I visualized key relationships in the data to understand how survival varied with different factors such as gender and passenger class.\n"
   ]
  },
  {
   "cell_type": "code",
   "execution_count": 6,
   "id": "76e0e5e4-7351-4491-bbce-196882d46986",
   "metadata": {},
   "outputs": [
    {
     "data": {
      "image/png": "[encoded data removed]",
      "text/plain": [
       "<Figure size 640x480 with 1 Axes>"
      ]
     },
     "metadata": {},
     "output_type": "display_data"
    },
    {
     "data": {
      "image/png": "[encoded data removed]",
      "text/plain": [
       "<Figure size 640x480 with 1 Axes>"
      ]
     },
     "metadata": {},
     "output_type": "display_data"
    },
    {
     "data": {
      "image/png": "[encoded data removed]",
      "text/plain": [
       "<Figure size 640x480 with 1 Axes>"
      ]
     },
     "metadata": {},
     "output_type": "display_data"
    }
   ],
   "source": [
    "sns.countplot(x='survived', data=df)\n",
    "plt.title('Survival Count')\n",
    "plt.show()\n",
    "\n",
    "sns.countplot(x='sex', hue='survived', data=df)\n",
    "plt.title('Survival by Gender')\n",
    "plt.show()\n",
    "\n",
    "sns.countplot(x='class', hue='survived', data=df)\n",
    "plt.title('Survival by Passenger Class')\n",
    "plt.show()\n"
   ]
  },
  {
   "cell_type": "markdown",
   "id": "8af8234d-98a5-44b3-b03c-f5d4ec23e798",
   "metadata": {},
   "source": [
    "##  Data Cleaning and Preprocessing\n",
    "\n",
    "I cleaned the data by handling missing values, dropping irrelevant columns, and encoding categorical variables into numerical form to prepare the dataset for model training.\n"
   ]
  },
  {
   "cell_type": "code",
   "execution_count": 7,
   "id": "4ed7542f-29aa-4b6d-b080-3a2975aacf9d",
   "metadata": {},
   "outputs": [
    {
     "data": {
      "text/html": [
       "<div>\n",
       "<style scoped>\n",
       "    .dataframe tbody tr th:only-of-type {\n",
       "        vertical-align: middle;\n",
       "    }\n",
       "\n",
       "    .dataframe tbody tr th {\n",
       "        vertical-align: top;\n",
       "    }\n",
       "\n",
       "    .dataframe thead th {\n",
       "        text-align: right;\n",
       "    }\n",
       "</style>\n",
       "<table border=\"1\" class=\"dataframe\">\n",
       "  <thead>\n",
       "    <tr style=\"text-align: right;\">\n",
       "      <th></th>\n",
       "      <th>survived</th>\n",
       "      <th>pclass</th>\n",
       "      <th>sex</th>\n",
       "      <th>age</th>\n",
       "      <th>sibsp</th>\n",
       "      <th>parch</th>\n",
       "      <th>fare</th>\n",
       "      <th>embarked</th>\n",
       "      <th>class</th>\n",
       "    </tr>\n",
       "  </thead>\n",
       "  <tbody>\n",
       "    <tr>\n",
       "      <th>0</th>\n",
       "      <td>0</td>\n",
       "      <td>3</td>\n",
       "      <td>1</td>\n",
       "      <td>22.0</td>\n",
       "      <td>1</td>\n",
       "      <td>0</td>\n",
       "      <td>7.2500</td>\n",
       "      <td>2</td>\n",
       "      <td>2</td>\n",
       "    </tr>\n",
       "    <tr>\n",
       "      <th>1</th>\n",
       "      <td>1</td>\n",
       "      <td>1</td>\n",
       "      <td>0</td>\n",
       "      <td>38.0</td>\n",
       "      <td>1</td>\n",
       "      <td>0</td>\n",
       "      <td>71.2833</td>\n",
       "      <td>0</td>\n",
       "      <td>0</td>\n",
       "    </tr>\n",
       "    <tr>\n",
       "      <th>2</th>\n",
       "      <td>1</td>\n",
       "      <td>3</td>\n",
       "      <td>0</td>\n",
       "      <td>26.0</td>\n",
       "      <td>0</td>\n",
       "      <td>0</td>\n",
       "      <td>7.9250</td>\n",
       "      <td>2</td>\n",
       "      <td>2</td>\n",
       "    </tr>\n",
       "    <tr>\n",
       "      <th>3</th>\n",
       "      <td>1</td>\n",
       "      <td>1</td>\n",
       "      <td>0</td>\n",
       "      <td>35.0</td>\n",
       "      <td>1</td>\n",
       "      <td>0</td>\n",
       "      <td>53.1000</td>\n",
       "      <td>2</td>\n",
       "      <td>0</td>\n",
       "    </tr>\n",
       "    <tr>\n",
       "      <th>4</th>\n",
       "      <td>0</td>\n",
       "      <td>3</td>\n",
       "      <td>1</td>\n",
       "      <td>35.0</td>\n",
       "      <td>0</td>\n",
       "      <td>0</td>\n",
       "      <td>8.0500</td>\n",
       "      <td>2</td>\n",
       "      <td>2</td>\n",
       "    </tr>\n",
       "  </tbody>\n",
       "</table>\n",
       "</div>"
      ],
      "text/plain": [
       "   survived  pclass  sex   age  sibsp  parch     fare  embarked  class\n",
       "0         0       3    1  22.0      1      0   7.2500         2      2\n",
       "1         1       1    0  38.0      1      0  71.2833         0      0\n",
       "2         1       3    0  26.0      0      0   7.9250         2      2\n",
       "3         1       1    0  35.0      1      0  53.1000         2      0\n",
       "4         0       3    1  35.0      0      0   8.0500         2      2"
      ]
     },
     "execution_count": 7,
     "metadata": {},
     "output_type": "execute_result"
    }
   ],
   "source": [
    "# Dropping irrelevant columns\n",
    "df = df.drop(['deck', 'embark_town', 'alive', 'adult_male', 'who', 'alone'], axis=1)\n",
    "\n",
    "# Filling missing values\n",
    "df['age'] = df['age'].fillna(df['age'].median())\n",
    "df['embarked'] = df['embarked'].fillna(df['embarked'].mode()[0])\n",
    "\n",
    "# Encoding categorical columns\n",
    "label = LabelEncoder()\n",
    "for col in ['sex', 'embarked', 'class']:\n",
    "    df[col] = label.fit_transform(df[col])\n",
    "\n",
    "# Checking cleaned data\n",
    "df.head()\n"
   ]
  },
  {
   "cell_type": "markdown",
   "id": "56a9275c-46d1-4a19-a0b0-b6c9a698c0ad",
   "metadata": {},
   "source": [
    "## Splitting the Dataset\n",
    "\n",
    "I split the dataset into **training** and **testing** sets in an 80-20 ratio to evaluate my model’s performance fairly.\n"
   ]
  },
  {
   "cell_type": "code",
   "execution_count": 8,
   "id": "2f8dcbae-4abd-4966-9512-0b4ac7c703ce",
   "metadata": {},
   "outputs": [],
   "source": [
    "X = df.drop('survived', axis=1)\n",
    "y = df['survived']\n",
    "\n",
    "X_train, X_test, y_train, y_test = train_test_split(X, y, test_size=0.2, random_state=42)\n",
    "\n"
   ]
  },
  {
   "cell_type": "markdown",
   "id": "737c183d-6256-4e9e-989e-88395ee4af6e",
   "metadata": {},
   "source": [
    "## Model Building\n",
    "\n",
    "I used a **Random Forest Classifier** because it performs well with structured data and handles both numerical and categorical features effectively.\n"
   ]
  },
  {
   "cell_type": "code",
   "execution_count": 10,
   "id": "9731980d-d7f7-4c93-b73a-b39f1b31e48c",
   "metadata": {},
   "outputs": [],
   "source": [
    "model = RandomForestClassifier(random_state=42)\n",
    "model.fit(X_train, y_train)\n",
    "\n",
    "y_pred = model.predict(X_test)\n"
   ]
  },
  {
   "cell_type": "markdown",
   "id": "03a9c0e0-1d1f-41e3-9744-077385bb75af",
   "metadata": {},
   "source": [
    "## Model Evaluation\n",
    "\n",
    "After training the model, I evaluated its performance using accuracy, confusion matrix, and classification report.  \n",
    "These metrics helped me understand how well my model predicted survival.\n"
   ]
  },
  {
   "cell_type": "code",
   "execution_count": 12,
   "id": "56f9ca76-f105-4fb0-9de1-fa29a37ca3dc",
   "metadata": {},
   "outputs": [
    {
     "name": "stdout",
     "output_type": "stream",
     "text": [
      " Model Accuracy: 0.82\n",
      "\n",
      " Confusion Matrix:\n",
      " [[90 15]\n",
      " [17 57]]\n",
      "\n",
      " Classification Report:\n",
      "               precision    recall  f1-score   support\n",
      "\n",
      "           0       0.84      0.86      0.85       105\n",
      "           1       0.79      0.77      0.78        74\n",
      "\n",
      "    accuracy                           0.82       179\n",
      "   macro avg       0.82      0.81      0.81       179\n",
      "weighted avg       0.82      0.82      0.82       179\n",
      "\n"
     ]
    }
   ],
   "source": [
    "accuracy = accuracy_score(y_test, y_pred)\n",
    "print(f\" Model Accuracy: {accuracy:.2f}\")\n",
    "\n",
    "print(\"\\n Confusion Matrix:\\n\", confusion_matrix(y_test, y_pred))\n",
    "print(\"\\n Classification Report:\\n\", classification_report(y_test, y_pred))\n"
   ]
  },
  {
   "cell_type": "markdown",
   "id": "d8953ea0-9662-483d-87d5-0f7b296c6d41",
   "metadata": {},
   "source": [
    "## Conclusion\n",
    "\n",
    "The **Random Forest Classifier** performed well on the Titanic dataset and achieved a good accuracy score.  \n",
    "Through this project, I learned how to clean data, perform exploratory analysis, and train predictive models using Python.  \n",
    "\n",
    "In the future, I would like to:\n",
    "- Experiment with **Logistic Regression** and **XGBoost**\n",
    "- Perform **hyperparameter tuning**\n",
    "- Add **feature engineering** (like family size, title extraction, etc.) for better accuracy.\n"
   ]
  },
  {
   "cell_type": "code",
   "execution_count": null,
   "id": "65ad1d68-5f39-4ef3-8126-ae84ab85df28",
   "metadata": {},
   "outputs": [],
   "source": []
  }
 ],
 "metadata": {
  "kernelspec": {
   "display_name": "Python 3 (ipykernel)",
   "language": "python",
   "name": "python3"
  },
  "language_info": {
   "codemirror_mode": {
    "name": "ipython",
    "version": 3
   },
   "file_extension": ".py",
   "mimetype": "text/x-python",
   "name": "python",
   "nbconvert_exporter": "python",
   "pygments_lexer": "ipython3",
   "version": "3.13.5"
  }
 },
 "nbformat": 4,
 "nbformat_minor": 5
}
